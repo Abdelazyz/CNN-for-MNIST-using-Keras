{
 "cells": [
  {
   "cell_type": "code",
   "execution_count": 1,
   "metadata": {
    "id": "9FIdCJbh7DZi"
   },
   "outputs": [],
   "source": [
    "import numpy as np\n",
    "from tensorflow import keras\n",
    "from keras import layers\n",
    "import matplotlib.pyplot as plt"
   ]
  },
  {
   "cell_type": "code",
   "execution_count": 2,
   "metadata": {
    "colab": {
     "base_uri": "https://localhost:8080/"
    },
    "id": "M0ywHV8r7M-U",
    "outputId": "c2de26bc-0ca6-4778-fb11-3f5f72d019fc"
   },
   "outputs": [],
   "source": [
    "# Paramètres de modèle / données\n",
    "num_classes = 10\n",
    "input_shape = (28, 28, 1)\n",
    "\n",
    "# les données, réparties entre le train et les ensembles de test / base de données\n",
    "(x_train, y_train), (x_test, y_test) = keras.datasets.mnist.load_data()\n",
    "\n",
    "#Mettre les images à l'échelle dans la plage [0, 1]\n",
    "x_train = x_train.astype(\"float32\") / 255\n",
    "x_test = x_test.astype(\"float32\") / 255\n"
   ]
  },
  {
   "cell_type": "code",
   "execution_count": 3,
   "metadata": {},
   "outputs": [
    {
     "data": {
      "text/plain": [
       "array([5, 0, 4, ..., 5, 6, 8], dtype=uint8)"
      ]
     },
     "execution_count": 3,
     "metadata": {},
     "output_type": "execute_result"
    }
   ],
   "source": [
    "y_train"
   ]
  },
  {
   "cell_type": "code",
   "execution_count": 4,
   "metadata": {},
   "outputs": [],
   "source": [
    "x_train = np.expand_dims(x_train, -1)\n",
    "x_test = np.expand_dims(x_test, -1)\n",
    "\n",
    "# convertir les vecteurs de classe en matrices de classes binaires\n",
    "y_train = keras.utils.to_categorical(y_train, num_classes)\n",
    "y_test = keras.utils.to_categorical(y_test, num_classes)"
   ]
  },
  {
   "cell_type": "code",
   "execution_count": 6,
   "metadata": {},
   "outputs": [
    {
     "data": {
      "text/plain": [
       "(60000, 28, 28, 1)"
      ]
     },
     "execution_count": 6,
     "metadata": {},
     "output_type": "execute_result"
    }
   ],
   "source": [
    "x_train.shape"
   ]
  },
  {
   "cell_type": "code",
   "execution_count": null,
   "metadata": {},
   "outputs": [],
   "source": []
  },
  {
   "cell_type": "code",
   "execution_count": null,
   "metadata": {},
   "outputs": [],
   "source": []
  },
  {
   "cell_type": "code",
   "execution_count": 6,
   "metadata": {
    "id": "HVpC1VSN7R3h"
   },
   "outputs": [],
   "source": [
    "model = keras.Sequential([keras.Input(shape=input_shape)])"
   ]
  },
  {
   "cell_type": "code",
   "execution_count": 7,
   "metadata": {
    "id": "nv_mq0NQ7c8-"
   },
   "outputs": [],
   "source": [
    "model.add(layers.Conv2D(32, kernel_size=(3, 3), activation=\"relu\"))"
   ]
  },
  {
   "cell_type": "code",
   "execution_count": 8,
   "metadata": {
    "id": "2grCR9oyA99z"
   },
   "outputs": [],
   "source": [
    "model.add(layers.MaxPooling2D(pool_size=(2, 2)))"
   ]
  },
  {
   "cell_type": "code",
   "execution_count": 9,
   "metadata": {
    "id": "MuG37-1uBAzl"
   },
   "outputs": [],
   "source": [
    "model.add(layers.Conv2D(64, kernel_size=(3, 3), activation=\"relu\"))"
   ]
  },
  {
   "cell_type": "code",
   "execution_count": 10,
   "metadata": {
    "id": "4ip0vg5VBDGo"
   },
   "outputs": [],
   "source": [
    "model.add(layers.MaxPooling2D(pool_size=(2, 2)))"
   ]
  },
  {
   "cell_type": "code",
   "execution_count": 11,
   "metadata": {
    "id": "YqoWEh0wBg6S"
   },
   "outputs": [],
   "source": [
    "model.add(layers.Flatten())"
   ]
  },
  {
   "cell_type": "code",
   "execution_count": 12,
   "metadata": {
    "id": "t5LWiCYFBjoi"
   },
   "outputs": [],
   "source": [
    "model.add(layers.Dropout(0.5))"
   ]
  },
  {
   "cell_type": "code",
   "execution_count": 13,
   "metadata": {
    "id": "0FCDoZNTBlk5"
   },
   "outputs": [],
   "source": [
    "model.add(layers.Dense(num_classes, activation=\"softmax\"))"
   ]
  },
  {
   "cell_type": "code",
   "execution_count": 14,
   "metadata": {
    "colab": {
     "base_uri": "https://localhost:8080/"
    },
    "id": "mMOqdL2nBn-H",
    "outputId": "d4032dde-bcf6-4520-f088-1647639bc168"
   },
   "outputs": [
    {
     "name": "stdout",
     "output_type": "stream",
     "text": [
      "Model: \"sequential\"\n",
      "_________________________________________________________________\n",
      " Layer (type)                Output Shape              Param #   \n",
      "=================================================================\n",
      " conv2d (Conv2D)             (None, 26, 26, 32)        320       \n",
      "                                                                 \n",
      " max_pooling2d (MaxPooling2D  (None, 13, 13, 32)       0         \n",
      " )                                                               \n",
      "                                                                 \n",
      " conv2d_1 (Conv2D)           (None, 11, 11, 64)        18496     \n",
      "                                                                 \n",
      " max_pooling2d_1 (MaxPooling  (None, 5, 5, 64)         0         \n",
      " 2D)                                                             \n",
      "                                                                 \n",
      " flatten (Flatten)           (None, 1600)              0         \n",
      "                                                                 \n",
      " dropout (Dropout)           (None, 1600)              0         \n",
      "                                                                 \n",
      " dense (Dense)               (None, 10)                16010     \n",
      "                                                                 \n",
      "=================================================================\n",
      "Total params: 34,826\n",
      "Trainable params: 34,826\n",
      "Non-trainable params: 0\n",
      "_________________________________________________________________\n"
     ]
    }
   ],
   "source": [
    "model.summary()"
   ]
  },
  {
   "cell_type": "code",
   "execution_count": 15,
   "metadata": {
    "colab": {
     "base_uri": "https://localhost:8080/"
    },
    "id": "9gLqd3SGCZ7h",
    "outputId": "109d5730-845e-42c2-8275-ddf7d3a99c68"
   },
   "outputs": [
    {
     "name": "stdout",
     "output_type": "stream",
     "text": [
      "Epoch 1/25\n",
      "422/422 [==============================] - 70s 164ms/step - loss: 0.3711 - accuracy: 0.8879 - val_loss: 0.0832 - val_accuracy: 0.9778\n",
      "Epoch 2/25\n",
      "422/422 [==============================] - 67s 160ms/step - loss: 0.1110 - accuracy: 0.9672 - val_loss: 0.0616 - val_accuracy: 0.9823\n",
      "Epoch 3/25\n",
      "422/422 [==============================] - 72s 170ms/step - loss: 0.0870 - accuracy: 0.9732 - val_loss: 0.0505 - val_accuracy: 0.9858\n",
      "Epoch 4/25\n",
      "422/422 [==============================] - 76s 180ms/step - loss: 0.0722 - accuracy: 0.9771 - val_loss: 0.0459 - val_accuracy: 0.9872\n",
      "Epoch 5/25\n",
      "422/422 [==============================] - 68s 161ms/step - loss: 0.0634 - accuracy: 0.9804 - val_loss: 0.0484 - val_accuracy: 0.9847\n",
      "Epoch 6/25\n",
      "422/422 [==============================] - 68s 161ms/step - loss: 0.0589 - accuracy: 0.9815 - val_loss: 0.0381 - val_accuracy: 0.9897\n",
      "Epoch 7/25\n",
      "422/422 [==============================] - 70s 165ms/step - loss: 0.0529 - accuracy: 0.9829 - val_loss: 0.0347 - val_accuracy: 0.9907\n",
      "Epoch 8/25\n",
      "422/422 [==============================] - 69s 164ms/step - loss: 0.0491 - accuracy: 0.9844 - val_loss: 0.0326 - val_accuracy: 0.9913\n",
      "Epoch 9/25\n",
      "422/422 [==============================] - 69s 164ms/step - loss: 0.0484 - accuracy: 0.9848 - val_loss: 0.0313 - val_accuracy: 0.9915\n",
      "Epoch 10/25\n",
      "422/422 [==============================] - 71s 168ms/step - loss: 0.0449 - accuracy: 0.9858 - val_loss: 0.0308 - val_accuracy: 0.9915\n",
      "Epoch 11/25\n",
      "422/422 [==============================] - 71s 169ms/step - loss: 0.0426 - accuracy: 0.9866 - val_loss: 0.0314 - val_accuracy: 0.9905\n",
      "Epoch 12/25\n",
      "422/422 [==============================] - 69s 163ms/step - loss: 0.0398 - accuracy: 0.9874 - val_loss: 0.0367 - val_accuracy: 0.9907\n",
      "Epoch 13/25\n",
      "422/422 [==============================] - 69s 164ms/step - loss: 0.0375 - accuracy: 0.9879 - val_loss: 0.0304 - val_accuracy: 0.9913\n",
      "Epoch 14/25\n",
      "422/422 [==============================] - 70s 166ms/step - loss: 0.0357 - accuracy: 0.9886 - val_loss: 0.0314 - val_accuracy: 0.9913\n",
      "Epoch 15/25\n",
      "422/422 [==============================] - 82s 194ms/step - loss: 0.0349 - accuracy: 0.9885 - val_loss: 0.0302 - val_accuracy: 0.9915\n",
      "Epoch 16/25\n",
      "422/422 [==============================] - 84s 200ms/step - loss: 0.0320 - accuracy: 0.9898 - val_loss: 0.0284 - val_accuracy: 0.9927\n",
      "Epoch 17/25\n",
      "422/422 [==============================] - 90s 213ms/step - loss: 0.0330 - accuracy: 0.9894 - val_loss: 0.0279 - val_accuracy: 0.9927\n",
      "Epoch 18/25\n",
      "422/422 [==============================] - 94s 223ms/step - loss: 0.0294 - accuracy: 0.9904 - val_loss: 0.0283 - val_accuracy: 0.9922\n",
      "Epoch 19/25\n",
      "422/422 [==============================] - 100s 237ms/step - loss: 0.0296 - accuracy: 0.9907 - val_loss: 0.0295 - val_accuracy: 0.9925\n",
      "Epoch 20/25\n",
      "422/422 [==============================] - 81s 191ms/step - loss: 0.0290 - accuracy: 0.9900 - val_loss: 0.0267 - val_accuracy: 0.9920\n",
      "Epoch 21/25\n",
      "422/422 [==============================] - 76s 179ms/step - loss: 0.0284 - accuracy: 0.9909 - val_loss: 0.0290 - val_accuracy: 0.9913\n",
      "Epoch 22/25\n",
      "422/422 [==============================] - 76s 180ms/step - loss: 0.0263 - accuracy: 0.9911 - val_loss: 0.0278 - val_accuracy: 0.9927\n",
      "Epoch 23/25\n",
      "422/422 [==============================] - 106s 253ms/step - loss: 0.0273 - accuracy: 0.9905 - val_loss: 0.0325 - val_accuracy: 0.9918\n",
      "Epoch 24/25\n",
      "422/422 [==============================] - 86s 204ms/step - loss: 0.0261 - accuracy: 0.9909 - val_loss: 0.0276 - val_accuracy: 0.9920\n",
      "Epoch 25/25\n",
      "422/422 [==============================] - 76s 179ms/step - loss: 0.0250 - accuracy: 0.9918 - val_loss: 0.0287 - val_accuracy: 0.9922\n"
     ]
    }
   ],
   "source": [
    "batch_size = 128\n",
    "epochs = 25\n",
    "\n",
    "model.compile(loss=\"categorical_crossentropy\", optimizer=\"adam\", metrics=[\"accuracy\"])\n",
    "\n",
    "history = model.fit(x_train, y_train, batch_size=batch_size, epochs=epochs, validation_split=0.1)"
   ]
  },
  {
   "cell_type": "code",
   "execution_count": null,
   "metadata": {
    "colab": {
     "base_uri": "https://localhost:8080/"
    },
    "id": "UbkgRUDKEGrP",
    "outputId": "2e6e5317-7551-4267-b817-0fb6cbdcea47"
   },
   "outputs": [
    {
     "name": "stdout",
     "output_type": "stream",
     "text": [
      "313/313 [==============================] - 3s 8ms/step - loss: 0.0231 - accuracy: 0.9930\n",
      "Test loss: 0.023054203018546104\n",
      "Test accuracy: 0.9929999709129333\n"
     ]
    }
   ],
   "source": [
    "score = model.evaluate(x_test, y_test)\n",
    "print('Test loss:', score[0])\n",
    "print('Test accuracy:', score[1])"
   ]
  },
  {
   "cell_type": "code",
   "execution_count": null,
   "metadata": {
    "colab": {
     "base_uri": "https://localhost:8080/",
     "height": 282
    },
    "id": "iZaImaODVxgn",
    "outputId": "03d03ef1-5ad1-4f88-f5b0-f0ce5d26fbb2"
   },
   "outputs": [
    {
     "data": {
      "text/plain": [
       "<matplotlib.image.AxesImage at 0x7f5ae6d41250>"
      ]
     },
     "execution_count": 16,
     "metadata": {},
     "output_type": "execute_result"
    },
    {
     "data": {
      "image/png": "[encoded data removed]",
      "text/plain": [
       "<Figure size 432x288 with 1 Axes>"
      ]
     },
     "metadata": {
      "needs_background": "light"
     },
     "output_type": "display_data"
    }
   ],
   "source": [
    "image_index =600\n",
    "# image_index = \n",
    "plt.imshow(x_test[image_index].reshape(28, 28), cmap='Greys')"
   ]
  },
  {
   "cell_type": "code",
   "execution_count": null,
   "metadata": {
    "colab": {
     "base_uri": "https://localhost:8080/"
    },
    "id": "8_W315_IWhd1",
    "outputId": "0619e516-ac01-44e6-867d-ebaaf1731df1"
   },
   "outputs": [
    {
     "name": "stdout",
     "output_type": "stream",
     "text": [
      "9\n"
     ]
    }
   ],
   "source": [
    "pred = model.predict(x_test[image_index].reshape(1, 28, 28, 1))\n",
    "print(pred.argmax())"
   ]
  },
  {
   "cell_type": "code",
   "execution_count": null,
   "metadata": {
    "id": "Lx15lzPfFE_i"
   },
   "outputs": [],
   "source": [
    "loss_curve = history.history[\"loss\"]\n",
    "acc_curve = history.history[\"accuracy\"]"
   ]
  },
  {
   "cell_type": "code",
   "execution_count": null,
   "metadata": {
    "id": "i5mS3TEPFl-R"
   },
   "outputs": [],
   "source": [
    "loss_val_curve = history.history[\"val_loss\"]\n",
    "acc_val_curve = history.history[\"val_accuracy\"]"
   ]
  },
  {
   "cell_type": "code",
   "execution_count": null,
   "metadata": {
    "colab": {
     "base_uri": "https://localhost:8080/",
     "height": 545
    },
    "id": "t2yZHggkBxKu",
    "outputId": "7e96e385-374e-49fc-fa37-05b54ca03bbe"
   },
   "outputs": [
    {
     "data": {
      "image/png": "[encoded data removed]",
      "text/plain": [
       "<Figure size 432x288 with 1 Axes>"
      ]
     },
     "metadata": {
      "tags": []
     },
     "output_type": "display_data"
    },
    {
     "data": {
      "image/png": "[encoded data removed]",
      "text/plain": [
       "<Figure size 432x288 with 1 Axes>"
      ]
     },
     "metadata": {
      "tags": []
     },
     "output_type": "display_data"
    }
   ],
   "source": [
    "plt.plot(loss_curve, label=\"Train\")\n",
    "plt.plot(loss_val_curve, label=\"Val\")\n",
    "plt.legend(loc='upper right')\n",
    "plt.title(\"Perte (loss)\") \n",
    "plt.show()\n",
    "plt.plot(acc_curve, label=\"Train\")\n",
    "plt.plot(acc_val_curve, label=\"Val\")\n",
    "plt.legend(loc='lower right')\n",
    "plt.title(\"Précision (accuracy)\") \n",
    "plt.show()"
   ]
  },
  {
   "cell_type": "code",
   "execution_count": null,
   "metadata": {
    "colab": {
     "base_uri": "https://localhost:8080/",
     "height": 281
    },
    "id": "499NdTQLFuQz",
    "outputId": "96b6aeef-c8e0-4531-b034-36ded912a1ac"
   },
   "outputs": [
    {
     "data": {
      "image/png": "[encoded data removed]",
      "text/plain": [
       "<Figure size 432x288 with 1 Axes>"
      ]
     },
     "metadata": {
      "tags": []
     },
     "output_type": "display_data"
    }
   ],
   "source": [
    "plt.plot(acc_curve, label=\"Train\")\n",
    "plt.plot(acc_val_curve, label=\"Val\")\n",
    "plt.legend(loc='upper left')\n",
    "plt.title(\"Précision\")\n",
    "plt.show()"
   ]
  },
  {
   "cell_type": "code",
   "execution_count": null,
   "metadata": {
    "id": "PjZ9r5vjHtv0"
   },
   "outputs": [],
   "source": []
  }
 ],
 "metadata": {
  "colab": {
   "collapsed_sections": [],
   "provenance": []
  },
  "kernelspec": {
   "display_name": "Python 3 (ipykernel)",
   "language": "python",
   "name": "python3"
  },
  "language_info": {
   "codemirror_mode": {
    "name": "ipython",
    "version": 3
   },
   "file_extension": ".py",
   "mimetype": "text/x-python",
   "name": "python",
   "nbconvert_exporter": "python",
   "pygments_lexer": "ipython3",
   "version": "3.9.7"
  }
 },
 "nbformat": 4,
 "nbformat_minor": 1
}
